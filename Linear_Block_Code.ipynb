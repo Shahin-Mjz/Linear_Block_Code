{
 "cells": [
  {
   "cell_type": "markdown",
   "id": "687937cf-3122-4ca4-9111-ad4c2c9f58a8",
   "metadata": {},
   "source": [
    "$\\newline$\n",
    "$\\newline$\n",
    "$\\newline$\n",
    "$${\\Large{\\color{blue}{\\bf{\\text{C(5, 2): }}}\\color{black}{\\bf{\\text{Implementation of Coder and Decoder for Linear Block Code of C(5, 2)}}}}}$$\n",
    "$\\newline$\n",
    "$\\newline$\n",
    "$\\newline$"
   ]
  },
  {
   "cell_type": "code",
   "execution_count": 1,
   "id": "ff1dc95e-4b47-4357-b0f7-2d2c5040bc24",
   "metadata": {
    "tags": [
     "hide-cell"
    ]
   },
   "outputs": [],
   "source": [
    "import numpy as np\n",
    "from time import time\n",
    "import itertools as it\n",
    "from termcolor import colored"
   ]
  },
  {
   "cell_type": "markdown",
   "id": "bb5427f0-d43c-4b59-ae0d-14e7fe3b9461",
   "metadata": {
    "jp-MarkdownHeadingCollapsed": true,
    "tags": []
   },
   "source": [
    "$\\newline$\n",
    "$\\newline$\n",
    "### ${{\\bf{}\\;\\;\\color{purple}{\\bf{{\\text{Implementation of Coder}}:}}}}$\n",
    "$\\newline$\n",
    "$\\newline$"
   ]
  },
  {
   "cell_type": "markdown",
   "id": "fe6d2942-cf4d-4182-abaf-b18f4c8c6bad",
   "metadata": {},
   "source": [
    "$\\newline$\n",
    "- #### ${{\\bf{}\\;\\;\\color{green}{\\bf{\\text{Lookup Table that Includes Standard Array and P Array:}}}}}$\n",
    "$\\newline$"
   ]
  },
  {
   "cell_type": "code",
   "execution_count": 2,
   "id": "d0b68c79-9b14-44ab-923a-2e0ab827b4c4",
   "metadata": {
    "tags": []
   },
   "outputs": [],
   "source": [
    "LOOK_UP_TABLE_P = {(5, 2): {'P': np.array([[1, 1, 1], [1, 0, 1]], dtype=np.int64), 'Standard_Array': \\\n",
    "                           {'e0': [[0, 0, 0, 0, 0], [1, 0, 1, 0, 1], [1, 1, 1, 1, 0], [0, 1, 0, 1, 1]], \\\n",
    "                            'e1': [[0, 0, 0, 0, 1], [1, 0, 1, 0, 0], [1, 1, 1, 1, 1], [0, 1, 0, 1, 0]], \\\n",
    "                            'e2': [[0, 0, 0, 1, 0], [1, 0, 1, 1, 1], [1, 1, 1, 0, 0], [0, 1, 0, 0, 1]], \\\n",
    "                            'e3': [[0, 0, 1, 0, 0], [1, 0, 0, 0, 1], [1, 1, 0, 1, 0], [0, 1, 1, 1, 1]], \\\n",
    "                            'e4': [[0, 1, 0, 0, 0], [1, 1, 1, 0, 1], [1, 0, 1, 1, 0], [0, 0, 0, 1, 1]], \\\n",
    "                            'e5': [[1, 0, 0, 0, 0], [0, 0, 1, 0, 1], [0, 1, 1, 1, 0], [1, 1, 0, 1, 1]], \\\n",
    "                            'e6': [[0, 0, 1, 1, 0], [1, 0, 0, 1, 1], [1, 1, 0, 0, 0], [0, 1, 1, 0, 1]], \\\n",
    "                            'e7': [[0, 1, 1, 0, 0], [1, 1, 0, 0, 1], [1, 0, 0, 1, 0], [0, 0, 1, 1, 1]]}}}"
   ]
  },
  {
   "cell_type": "code",
   "execution_count": 3,
   "id": "3ecc4623-e038-41d9-953d-ff2433ae1c76",
   "metadata": {},
   "outputs": [
    {
     "name": "stdout",
     "output_type": "stream",
     "text": [
      "\n",
      "\u001b[1m\u001b[34mFor Systematic Linear Block Code of C(5, 2) Standard Array is:\u001b[0m\n",
      "\n",
      "\n",
      "\u001b[1m\u001b[31me0\u001b[0m = \n",
      "[[0, 0, 0, 0, 0], [1, 0, 1, 0, 1], [1, 1, 1, 1, 0], [0, 1, 0, 1, 1]]\n",
      "\n",
      "\n",
      "\u001b[1m\u001b[31me1\u001b[0m = \n",
      "[[0, 0, 0, 0, 1], [1, 0, 1, 0, 0], [1, 1, 1, 1, 1], [0, 1, 0, 1, 0]]\n",
      "\n",
      "\n",
      "\u001b[1m\u001b[31me2\u001b[0m = \n",
      "[[0, 0, 0, 1, 0], [1, 0, 1, 1, 1], [1, 1, 1, 0, 0], [0, 1, 0, 0, 1]]\n",
      "\n",
      "\n",
      "\u001b[1m\u001b[31me3\u001b[0m = \n",
      "[[0, 0, 1, 0, 0], [1, 0, 0, 0, 1], [1, 1, 0, 1, 0], [0, 1, 1, 1, 1]]\n",
      "\n",
      "\n",
      "\u001b[1m\u001b[31me4\u001b[0m = \n",
      "[[0, 1, 0, 0, 0], [1, 1, 1, 0, 1], [1, 0, 1, 1, 0], [0, 0, 0, 1, 1]]\n",
      "\n",
      "\n",
      "\u001b[1m\u001b[31me5\u001b[0m = \n",
      "[[1, 0, 0, 0, 0], [0, 0, 1, 0, 1], [0, 1, 1, 1, 0], [1, 1, 0, 1, 1]]\n",
      "\n",
      "\n",
      "\u001b[1m\u001b[31me6\u001b[0m = \n",
      "[[0, 0, 1, 1, 0], [1, 0, 0, 1, 1], [1, 1, 0, 0, 0], [0, 1, 1, 0, 1]]\n",
      "\n",
      "\n",
      "\u001b[1m\u001b[31me7\u001b[0m = \n",
      "[[0, 1, 1, 0, 0], [1, 1, 0, 0, 1], [1, 0, 0, 1, 0], [0, 0, 1, 1, 1]]\n",
      "\n"
     ]
    }
   ],
   "source": [
    "St_Arr = LOOK_UP_TABLE_P[(5, 2)]['Standard_Array']\n",
    "print(f'\\n{colored(\"For Systematic Linear Block Code of C(5, 2) Standard Array is:\", \"blue\", attrs=[\"bold\"])}\\n')\n",
    "\n",
    "for key in St_Arr.keys():\n",
    "    print(f'\\n{colored(key, \"red\", attrs=[\"bold\"])} = \\n{St_Arr[key]}\\n')"
   ]
  },
  {
   "cell_type": "markdown",
   "id": "2b3b002a-2c97-4aeb-a1fc-6ec25e2568d6",
   "metadata": {},
   "source": [
    "$\\newline$\n",
    "$\\newline$\n",
    "\n",
    "\n",
    "> <span style='color: red'><b>Note: </b></span>The error pattern <b>e<sub>6</sub></b> in above has been corected\n",
    "\n",
    "\n",
    "$\\newline$\n",
    "$\\newline$"
   ]
  },
  {
   "cell_type": "markdown",
   "id": "81554c3b-476f-44a4-9b52-1ec6c8e6a742",
   "metadata": {},
   "source": [
    "$\\newline$\n",
    "- #### ${{\\bf{}\\;\\;\\color{green}{\\bf{\\text{G Generation:}}}}}$\n",
    "$\\newline$"
   ]
  },
  {
   "cell_type": "code",
   "execution_count": 4,
   "id": "c8109054-a5ee-4e9f-8b7a-5d481c4aca8e",
   "metadata": {
    "tags": []
   },
   "outputs": [],
   "source": [
    "def G_generator(Linear_Block_Code: tuple) -> np.ndarray:\n",
    "    n, k = Linear_Block_Code\n",
    "    I_k = np.identity(k, dtype=np.int64)\n",
    "    P = LOOK_UP_TABLE_P[Linear_Block_Code]['P']\n",
    "    G = np.concatenate((P, I_k), axis=1, dtype=np.int64)\n",
    "    return G"
   ]
  },
  {
   "cell_type": "markdown",
   "id": "fa36c285-92e2-429f-b88c-ae5f32ed4c1b",
   "metadata": {},
   "source": [
    "$\\newline$\n",
    "- - $\\small{\\bf{}\\;\\;\\color{brown}{\\bf{\\text{Test:}}}}$\n",
    "$\\newline$"
   ]
  },
  {
   "cell_type": "code",
   "execution_count": 5,
   "id": "e14c47b3-8556-465b-9816-e69f89bd7735",
   "metadata": {
    "tags": []
   },
   "outputs": [
    {
     "name": "stdout",
     "output_type": "stream",
     "text": [
      "\n",
      "\u001b[1m\u001b[34mFor Systematic Linear Block Code of C(5, 2) G Matrix will be:\u001b[0m\n",
      "\n",
      "\u001b[1m\u001b[30mG =\u001b[0m \n",
      "[[1 1 1 1 0]\n",
      " [1 0 1 0 1]]\n",
      "\n"
     ]
    }
   ],
   "source": [
    "G = G_generator(Linear_Block_Code=(5, 2))\n",
    "print(f'\\n{colored(\"For Systematic Linear Block Code of C(5, 2) G Matrix will be:\", \"blue\", attrs=[\"bold\"])}\\n\\n{colored(\"G =\", \"black\", attrs=[\"bold\"])} \\n{G}\\n')"
   ]
  },
  {
   "cell_type": "markdown",
   "id": "ffd2619e-ac02-4bf1-a537-532a1ae9ae3e",
   "metadata": {},
   "source": [
    "$\\newline$\n",
    "- #### ${{\\bf{}\\;\\;\\color{green}{\\bf{\\text{U Generation:}}}}}$\n",
    "$\\newline$"
   ]
  },
  {
   "cell_type": "code",
   "execution_count": 6,
   "id": "3e78c37b-470d-4919-9d68-090d40f2d719",
   "metadata": {
    "tags": []
   },
   "outputs": [],
   "source": [
    "def U_generator(k: int) -> np.ndarray:\n",
    "    U = np.array(list(it.product([0, 1], repeat=k)), dtype=np.int64)\n",
    "    return U"
   ]
  },
  {
   "cell_type": "markdown",
   "id": "88e94369-cf35-44cb-aaf8-ab15f5a1c7b3",
   "metadata": {},
   "source": [
    "$\\newline$\n",
    "- - $\\small{\\bf{}\\;\\;\\color{brown}{\\bf{\\text{Test:}}}}$\n",
    "$\\newline$"
   ]
  },
  {
   "cell_type": "code",
   "execution_count": 7,
   "id": "d4ae3eee-46f2-409d-898f-29c587788368",
   "metadata": {},
   "outputs": [
    {
     "name": "stdout",
     "output_type": "stream",
     "text": [
      "\n",
      "\u001b[1m\u001b[34mFor k=2 U Matrix that includes our Messages will be: \u001b[0m\n",
      "\n",
      "\u001b[1m\u001b[30mU =\u001b[0m\n",
      "[[0 0]\n",
      " [0 1]\n",
      " [1 0]\n",
      " [1 1]]\n",
      "\n"
     ]
    }
   ],
   "source": [
    "U = U_generator(k=2)\n",
    "print(f'\\n{colored(\"For k=2 U Matrix that includes our Messages will be: \", \"blue\", attrs=[\"bold\"])}\\n\\n{colored(\"U =\", \"black\", attrs=[\"bold\"])}\\n{U}\\n')"
   ]
  },
  {
   "cell_type": "markdown",
   "id": "0f51da29-dc87-424b-85f4-ab0b3dc118ef",
   "metadata": {},
   "source": [
    "$\\newline$\n",
    "- #### ${{\\bf{}\\;\\;\\color{green}{\\bf{\\text{V Generation (Coding by Using C(5, 2)) by 2 Methods:}}}}}$\n",
    "$\\newline$"
   ]
  },
  {
   "cell_type": "code",
   "execution_count": 8,
   "id": "566bd9ae-48c3-4d06-a77a-6fbc3fd30018",
   "metadata": {},
   "outputs": [],
   "source": [
    "def Coder_1(Linear_Block_Code: tuple) -> np.ndarray:\n",
    "    n, k = Linear_Block_Code\n",
    "    G = G_generator(Linear_Block_Code=Linear_Block_Code)\n",
    "    U = U_generator(k=k)\n",
    "    V = (U @ G) % 2\n",
    "    return V"
   ]
  },
  {
   "cell_type": "markdown",
   "id": "7155e7f2-0e96-4705-a82d-abc38dd56c1a",
   "metadata": {},
   "source": [
    "$\\newline$\n",
    "- - $\\small{\\bf{}\\;\\;\\color{brown}{\\bf{\\text{Test:}}}}$\n",
    "$\\newline$"
   ]
  },
  {
   "cell_type": "code",
   "execution_count": 9,
   "id": "f9f0558b-7e93-40b9-bcc0-6152a911e5b5",
   "metadata": {},
   "outputs": [
    {
     "name": "stdout",
     "output_type": "stream",
     "text": [
      "\n",
      "\u001b[1m\u001b[34mFor Systematic Linear Block Code of C(5, 2) V Matrix that includes our Codewords will be:\u001b[0m\n",
      "\n",
      "\u001b[1m\u001b[30mV =\u001b[0m \n",
      "[[0 0 0 0 0]\n",
      " [1 0 1 0 1]\n",
      " [1 1 1 1 0]\n",
      " [0 1 0 1 1]]\n",
      "\n",
      "\n",
      "\u001b[1m\u001b[31mRun-time: \u001b[0m 0.00045 (s)\n",
      "\n"
     ]
    }
   ],
   "source": [
    "tic = time()\n",
    "V = Coder_1(Linear_Block_Code=(5, 2))\n",
    "toc = time()\n",
    "run_time_coder_1 = toc - tic\n",
    "print(f'\\n{colored(\"For Systematic Linear Block Code of C(5, 2) V Matrix that includes our Codewords will be:\", \"blue\", attrs=[\"bold\"])}\\\n",
    "\\n\\n{colored(\"V =\", \"black\", attrs=[\"bold\"])} \\n{V}\\n')\n",
    "print(f'\\n{colored(\"Run-time: \", \"red\", attrs=[\"bold\"])}{run_time_coder_1: 0.5f} (s)\\n')"
   ]
  },
  {
   "cell_type": "code",
   "execution_count": 10,
   "id": "fe73de1f-be0a-4498-acc9-dfb29b469424",
   "metadata": {},
   "outputs": [],
   "source": [
    "def Coder_2(Linear_Block_Code: tuple) -> np.ndarray:\n",
    "    k = Linear_Block_Code[1]\n",
    "    P = LOOK_UP_TABLE_P[Linear_Block_Code]['P']\n",
    "    U = U_generator(k=k)\n",
    "    Parity_mat = (U @ P) % 2\n",
    "    V = np.concatenate((Parity_mat, U), axis=1)\n",
    "    return V"
   ]
  },
  {
   "cell_type": "markdown",
   "id": "e78e1ada-739e-411f-bb4a-3982b28d5c09",
   "metadata": {},
   "source": [
    "$\\newline$\n",
    "- - $\\small{\\bf{}\\;\\;\\color{brown}{\\bf{\\text{Test:}}}}$\n",
    "$\\newline$"
   ]
  },
  {
   "cell_type": "code",
   "execution_count": 11,
   "id": "c708b6cf-9554-410e-9917-4e3787f16c20",
   "metadata": {},
   "outputs": [
    {
     "name": "stdout",
     "output_type": "stream",
     "text": [
      "\n",
      "\u001b[1m\u001b[34mFor Systematic Linear Block Code of C(5, 2) V Matrix that includes our Codewords will be:\u001b[0m\n",
      "\n",
      "\u001b[1m\u001b[30mV =\u001b[0m \n",
      "[[0 0 0 0 0]\n",
      " [1 0 1 0 1]\n",
      " [1 1 1 1 0]\n",
      " [0 1 0 1 1]]\n",
      "\n",
      "\n",
      "\u001b[1m\u001b[31mRun-time: \u001b[0m 0.00016 (s)\n",
      "\n"
     ]
    }
   ],
   "source": [
    "tic = time()\n",
    "V = Coder_2(Linear_Block_Code=(5, 2))\n",
    "toc = time()\n",
    "run_time_coder_2 = toc - tic\n",
    "print(f'\\n{colored(\"For Systematic Linear Block Code of C(5, 2) V Matrix that includes our Codewords will be:\", \"blue\", attrs=[\"bold\"])}\\\n",
    "\\n\\n{colored(\"V =\", \"black\", attrs=[\"bold\"])} \\n{V}\\n')\n",
    "print(f'\\n{colored(\"Run-time: \", \"red\", attrs=[\"bold\"])}{run_time_coder_2: 0.5f} (s)\\n')"
   ]
  },
  {
   "cell_type": "markdown",
   "id": "86c2350a-0a5b-4983-82b1-725dc2257791",
   "metadata": {},
   "source": [
    "$\\newline$\n",
    "- - ${\\small{\\bf{}\\;\\;\\color{brown}{\\bf{\\text{Test by Using } {\\text{99.73 }\\%{\\text{ Rule}}}: }}}}$\n",
    "$\\newline$"
   ]
  },
  {
   "cell_type": "code",
   "execution_count": 12,
   "id": "a5901422-188a-4cfd-8084-49262841c4bd",
   "metadata": {},
   "outputs": [],
   "source": [
    "def Run_time(Coder_func, Linear_Block_Code: tuple=(5, 2), times: int=10) -> np.ndarray:\n",
    "    run_time_list = []\n",
    "    for i in range(times):\n",
    "        tic = time()\n",
    "        V = Coder_func(Linear_Block_Code)\n",
    "        toc = time()\n",
    "        run_time = toc - tic\n",
    "        run_time_list.append(run_time)\n",
    "    return np.array(run_time_list)"
   ]
  },
  {
   "cell_type": "code",
   "execution_count": 13,
   "id": "ddccf572-db3f-443e-8b88-cde712719076",
   "metadata": {},
   "outputs": [
    {
     "name": "stdout",
     "output_type": "stream",
     "text": [
      "\n",
      "\u001b[1m\u001b[34mRun-time(s) for Coder 1 after 1,000,000 times test (mean +- 3std):\u001b[0m  1.15 e-5 -+  1.38 e-5\n",
      "\n"
     ]
    }
   ],
   "source": [
    "Run_times_Coder_1 = Run_time(Coder_func=Coder_1, Linear_Block_Code=(5, 2), times=1000000)\n",
    "print(f'\\n{colored(\"Run-time(s) for Coder 1 after 1,000,000 times test (mean +- 3std):\", \"blue\", attrs=[\"bold\"])} \\\n",
    "{Run_times_Coder_1.mean() * 1e5: 0.2f} e-5 -+ \\\n",
    "{3 * Run_times_Coder_1.std() * 1e5: 0.2f} e-5\\n')"
   ]
  },
  {
   "cell_type": "code",
   "execution_count": 14,
   "id": "0e0b7eee-4754-4ce8-b180-78a18ff88173",
   "metadata": {},
   "outputs": [
    {
     "name": "stdout",
     "output_type": "stream",
     "text": [
      "\n",
      "\u001b[1m\u001b[34mRun-time(s) for Coder 2 after 1,000,000 times test (mean +- 3std):\u001b[0m  0.77 e-5 -+  1.04 e-5\n",
      "\n"
     ]
    }
   ],
   "source": [
    "Run_times_Coder_2 = Run_time(Coder_func=Coder_2, Linear_Block_Code=(5, 2), times=1000000)\n",
    "print(f'\\n{colored(\"Run-time(s) for Coder 2 after 1,000,000 times test (mean +- 3std):\", \"blue\", attrs=[\"bold\"])} \\\n",
    "{Run_times_Coder_2.mean() * 1e5: 0.2f} e-5 -+ \\\n",
    "{3 * Run_times_Coder_2.std() * 1e5: 0.2f} e-5\\n')"
   ]
  },
  {
   "cell_type": "markdown",
   "id": "b392fd99-f70f-4e87-be3a-89d66efd23f3",
   "metadata": {},
   "source": [
    "$\\newline$\n",
    "$\\newline$\n",
    "$\\newline$\n",
    "\n",
    "\n",
    "- #### ${{\\bf{}\\;\\;\\color{blue}{\\bf{{\\text{Conclusion:}}}}}}$\n",
    "\n",
    "\n",
    "$\\newline$\n",
    "$\\newline$\n",
    "\n",
    "\n",
    "- - ${{\\color{black}{\\text{As we saw Coder-2 is better for the Run-time parameter when n = 5 but for n > 5 we can't say anything before doing the test.}}}}$\n",
    "\n",
    "\n",
    "$\\newline$\n",
    "$\\newline$\n",
    "$\\newline$"
   ]
  },
  {
   "cell_type": "markdown",
   "id": "85b0b1e1-4ea7-4eb0-a9c2-82c1d76fa6a7",
   "metadata": {
    "tags": []
   },
   "source": [
    "$\\newline$\n",
    "$\\newline$\n",
    "### ${{\\bf{}\\;\\;\\color{purple}{\\bf{{\\text{Implementation of Decoder}}:}}}}$\n",
    "$\\newline$\n",
    "$\\newline$"
   ]
  },
  {
   "cell_type": "markdown",
   "id": "31b3a53b-8b19-4867-a59d-7a7da0fd1396",
   "metadata": {},
   "source": [
    "$\\newline$\n",
    "- #### ${{\\bf{}\\;\\;\\color{green}{\\bf{\\text{U Generation:}}}}}$\n",
    "$\\newline$"
   ]
  },
  {
   "cell_type": "code",
   "execution_count": 15,
   "id": "90fb7675-ca3f-462b-9fd0-0e3dcd011704",
   "metadata": {},
   "outputs": [
    {
     "name": "stdout",
     "output_type": "stream",
     "text": [
      "\n",
      "\u001b[1m\u001b[30mU =\u001b[0m\n",
      "\n",
      "[[0 0]\n",
      " [0 1]\n",
      " [1 0]\n",
      " [1 1]]\n",
      "\n"
     ]
    }
   ],
   "source": [
    "U = U_generator(k=2)\n",
    "print(f'\\n{colored(\"U =\", \"black\", attrs=[\"bold\"])}\\n\\n{U}\\n')"
   ]
  },
  {
   "cell_type": "markdown",
   "id": "6f7679a4-65a9-47fa-9fe6-4be6411f511a",
   "metadata": {},
   "source": [
    "$\\newline$\n",
    "- #### ${{\\bf{}\\;\\;\\color{green}{\\bf{\\text{V Generation (Coding by using C(5, 2)):}}}}}$\n",
    "$\\newline$"
   ]
  },
  {
   "cell_type": "code",
   "execution_count": 16,
   "id": "8f8156ff-caf2-483f-ac43-429a571fc9ad",
   "metadata": {},
   "outputs": [
    {
     "name": "stdout",
     "output_type": "stream",
     "text": [
      "\n",
      "\u001b[1m\u001b[30mV =\u001b[0m\n",
      "\n",
      "[[0 0 0 0 0]\n",
      " [1 0 1 0 1]\n",
      " [1 1 1 1 0]\n",
      " [0 1 0 1 1]]\n",
      "\n"
     ]
    }
   ],
   "source": [
    "Selected_Coder = Coder_2\n",
    "V = Selected_Coder(Linear_Block_Code=(5, 2))\n",
    "print(f'\\n{colored(\"V =\", \"black\", attrs=[\"bold\"])}\\n\\n{V}\\n')"
   ]
  },
  {
   "cell_type": "markdown",
   "id": "6f3f1f41-467d-4829-9d4d-d4b5b39ce8ec",
   "metadata": {},
   "source": [
    "$\\newline$\n",
    "- #### ${{\\bf{}\\;\\;\\color{green}{\\bf{\\text{Channel Effect (Error Patterns Generation by Using Discrete Uniform Distribution):}}}}}$\n",
    "$\\newline$"
   ]
  },
  {
   "cell_type": "code",
   "execution_count": 17,
   "id": "0370f569-8aa9-4266-b3d1-b3738e1b95b7",
   "metadata": {},
   "outputs": [
    {
     "name": "stdout",
     "output_type": "stream",
     "text": [
      "\n",
      "\u001b[1m\u001b[30mError_patterns =\u001b[0m\n",
      "\n",
      "[[0 0 1 1 1]\n",
      " [0 1 0 0 1]\n",
      " [0 0 1 1 0]\n",
      " [1 1 1 0 0]]\n",
      "\n"
     ]
    }
   ],
   "source": [
    "np.random.seed(4)\n",
    "Error_patterns = np.random.randint(low=0, high=2, size=V.shape, dtype=np.int64)\n",
    "print(f'\\n{colored(\"Error_patterns =\", \"black\", attrs=[\"bold\"])}\\n\\n{Error_patterns}\\n')"
   ]
  },
  {
   "cell_type": "markdown",
   "id": "16d70c21-d615-4c2a-87b2-ac258f6362ef",
   "metadata": {},
   "source": [
    "$\\newline$\n",
    "- #### ${{\\bf{}\\;\\;\\color{green}{\\bf{\\text{Received Vectors(R) Generation:}}}}}$\n",
    "$\\newline$"
   ]
  },
  {
   "cell_type": "code",
   "execution_count": 18,
   "id": "8ec04d1d-ca07-4209-ac37-550f5cd6638c",
   "metadata": {},
   "outputs": [],
   "source": [
    "def Channel_Out(Codewords: np.ndarray, E_patt: np.ndarray) -> np.ndarray:\n",
    "    r = (Codewords + E_patt) % 2\n",
    "    return r"
   ]
  },
  {
   "cell_type": "code",
   "execution_count": 19,
   "id": "5f344b9a-2401-416e-af92-aa3414f0e0ce",
   "metadata": {},
   "outputs": [
    {
     "name": "stdout",
     "output_type": "stream",
     "text": [
      "\n",
      "\u001b[1m\u001b[30mR =\u001b[0m\n",
      "\n",
      "[[0 0 1 1 1]\n",
      " [1 1 1 0 0]\n",
      " [1 1 0 0 0]\n",
      " [1 0 1 1 1]]\n",
      "\n"
     ]
    }
   ],
   "source": [
    "R = Channel_Out(Codewords=V, E_patt=Error_patterns)\n",
    "print(f'\\n{colored(\"R =\", \"black\", attrs=[\"bold\"])}\\n\\n{R}\\n')"
   ]
  },
  {
   "cell_type": "markdown",
   "id": "4a9e0dfe-1dde-4802-9a1a-931c0e0684b1",
   "metadata": {},
   "source": [
    "$\\newline$\n",
    "- #### ${{\\bf{}\\;\\;\\color{green}{\\bf{\\text{Optional:}}}}}$\n",
    "$\\newline$"
   ]
  },
  {
   "cell_type": "code",
   "execution_count": 20,
   "id": "2e152db4-6c37-4a6a-8579-cca4b1c89c9d",
   "metadata": {},
   "outputs": [],
   "source": [
    "def H_generator(Linear_Block_Code: tuple) -> np.ndarray:\n",
    "    n, k = Linear_Block_Code\n",
    "    P = LOOK_UP_TABLE_P[Linear_Block_Code]['P']\n",
    "    I_n_k = np.identity(n - k, dtype=np.int64)\n",
    "    H = np.concatenate((I_n_k, P.T), axis=1)\n",
    "    return H"
   ]
  },
  {
   "cell_type": "markdown",
   "id": "243258bf-eb8c-46c9-a666-5b40e480eae8",
   "metadata": {},
   "source": [
    "$\\newline$\n",
    "- - ${\\small{\\bf{}\\;\\;\\color{brown}{\\bf{\\text{Test:}}}}}$\n",
    "$\\newline$"
   ]
  },
  {
   "cell_type": "code",
   "execution_count": 21,
   "id": "3dc94c90-9606-4fb3-a62c-e16055695c5a",
   "metadata": {},
   "outputs": [
    {
     "name": "stdout",
     "output_type": "stream",
     "text": [
      "\n",
      "\u001b[1m\u001b[34mFor Systematic Linear Block Code of C(5, 2) Parity-Check Matrix will be:\u001b[0m\n",
      "\n",
      "\u001b[1m\u001b[30mH =\u001b[0m \n",
      "[[1 0 0 1 1]\n",
      " [0 1 0 1 0]\n",
      " [0 0 1 1 1]]\n",
      "\n"
     ]
    }
   ],
   "source": [
    "H = H_generator(Linear_Block_Code=(5, 2))\n",
    "print(f'\\n{colored(\"For Systematic Linear Block Code of C(5, 2) Parity-Check Matrix will be:\", \"blue\", attrs=[\"bold\"])}\\n\\n\\\n",
    "{colored(\"H =\", \"black\", attrs=[\"bold\"])} \\n{H}\\n')"
   ]
  },
  {
   "cell_type": "code",
   "execution_count": 22,
   "id": "de63528b-c826-49a4-8eb2-15a4aec94bac",
   "metadata": {},
   "outputs": [],
   "source": [
    "def S_generator(R: np.ndarray, H: np.ndarray) -> np.ndarray:\n",
    "    S = (R @ H.T) % 2\n",
    "    return S"
   ]
  },
  {
   "cell_type": "code",
   "execution_count": 23,
   "id": "e6e0860e-aee6-4f45-ac8f-6bae8afd2368",
   "metadata": {},
   "outputs": [],
   "source": [
    "def S_generator(R: np.ndarray, H: np.ndarray) -> np.ndarray:\n",
    "    S = (R @ H.T) % 2\n",
    "    return S"
   ]
  },
  {
   "cell_type": "markdown",
   "id": "378a88de-f60c-4969-bf71-8c815ff744ac",
   "metadata": {},
   "source": [
    "$\\newline$\n",
    "- - ${\\small{\\bf{}\\;\\;\\color{brown}{\\bf{\\text{Test:}}}}}$\n",
    "$\\newline$"
   ]
  },
  {
   "cell_type": "code",
   "execution_count": 24,
   "id": "4f8fe3b8-0873-49a5-87b5-af04673b0b27",
   "metadata": {},
   "outputs": [
    {
     "name": "stdout",
     "output_type": "stream",
     "text": [
      "\n",
      "\u001b[1m\u001b[30mS =\u001b[0m\n",
      "\n",
      "[[0 1 1]\n",
      " [1 1 1]\n",
      " [1 1 0]\n",
      " [1 1 1]]\n",
      "\n"
     ]
    }
   ],
   "source": [
    "S = S_generator(R=R, H=H)\n",
    "print(f'\\n{colored(\"S =\", \"black\", attrs=[\"bold\"])}\\n\\n{S}\\n')"
   ]
  },
  {
   "cell_type": "markdown",
   "id": "e43bf371-a1a4-452a-b671-ddb3589335ce",
   "metadata": {},
   "source": [
    "$\\newline$\n",
    "- #### ${{\\bf{}\\;\\;\\color{green}{\\bf{\\text{Decoder:}}}}}$\n",
    "$\\newline$"
   ]
  },
  {
   "cell_type": "code",
   "execution_count": 25,
   "id": "2494589d-1b5d-4915-b436-3e584dd938f0",
   "metadata": {},
   "outputs": [],
   "source": [
    "def Decoder(R: np.ndarray) -> np.ndarray:\n",
    "    check_dict = {}\n",
    "    _, n = R.shape\n",
    "    Error_patt_hat_list_list = []\n",
    "    for i, r in enumerate(R):\n",
    "        for key in St_Arr.keys():\n",
    "            if list(r) not in St_Arr[key]:\n",
    "                check_dict['r' + str(i)] = n * [0]\n",
    "            else:\n",
    "                check_dict['r' + str(i)] = St_Arr[key][0]\n",
    "                break\n",
    "    for ke in check_dict.keys():\n",
    "        Error_patt_hat_list_list.append(check_dict[ke])\n",
    "        \n",
    "    Error_patt_hat_ndarray = np.array(Error_patt_hat_list_list, dtype=np.int64)\n",
    "    V_hat = (R + Error_patt_hat_ndarray) % 2\n",
    "    return V_hat, Error_patt_hat_ndarray"
   ]
  },
  {
   "cell_type": "markdown",
   "id": "317c048f-6afc-4f09-9ada-4f549888fa25",
   "metadata": {},
   "source": [
    "$\\newline$\n",
    "- - ${\\small{\\bf{}\\;\\;\\color{brown}{\\bf{\\text{For Random Error Pattern Matrix:}}}}}$\n",
    "$\\newline$"
   ]
  },
  {
   "cell_type": "code",
   "execution_count": 26,
   "id": "da3f3635-a9e9-4afc-8b85-5fd02e42ec0e",
   "metadata": {},
   "outputs": [
    {
     "name": "stdout",
     "output_type": "stream",
     "text": [
      "\n",
      "When \u001b[1m\u001b[34mError Patterns\u001b[0m (Channel Effect) is: \n",
      "[[0 0 1 1 1]\n",
      " [0 1 0 0 1]\n",
      " [0 0 1 1 0]\n",
      " [1 1 1 0 0]]\n",
      "\n",
      "and \u001b[1m\u001b[34mV\u001b[0m is: \n",
      "[[0 0 0 0 0]\n",
      " [1 0 1 0 1]\n",
      " [1 1 1 1 0]\n",
      " [0 1 0 1 1]]\n",
      "\n",
      "then \n",
      "\n",
      "then \u001b[1m\u001b[34mR\u001b[0m will be: \n",
      "[[0 0 1 1 1]\n",
      " [1 1 1 0 0]\n",
      " [1 1 0 0 0]\n",
      " [1 0 1 1 1]]\n",
      "\n",
      "and \u001b[1m\u001b[34mV_hat\u001b[0m will be: \n",
      "[[0 1 0 1 1]\n",
      " [1 1 1 1 0]\n",
      " [1 1 1 1 0]\n",
      " [1 0 1 0 1]]\n",
      "\n",
      "\n"
     ]
    }
   ],
   "source": [
    "V_hat, e = Decoder(R=R)\n",
    "print(f'\\nWhen {colored(\"Error Patterns\", \"blue\", attrs=[\"bold\"])} (Channel Effect) is: \\n{Error_patterns}\\n\\nand \\\n",
    "{colored(\"V\", \"blue\", attrs=[\"bold\"])} is: \\n{V}\\n\\nthen \\n\\nthen \\\n",
    "{colored(\"R\", \"blue\", attrs=[\"bold\"])} will be: \\n{R}\\n\\n\\\n",
    "and {colored(\"V_hat\", \"blue\", attrs=[\"bold\"])} will be: \\n{V_hat}\\n\\n')"
   ]
  },
  {
   "cell_type": "markdown",
   "id": "5abf0e76-3e7f-49a6-bec7-396aa28a3b57",
   "metadata": {},
   "source": [
    "$\\newline$\n",
    "- - ${\\small{\\bf{}\\;\\;\\color{brown}{\\bf{\\text{For Desired Error Pattern Matrix:}}}}}$\n",
    "$\\newline$"
   ]
  },
  {
   "cell_type": "code",
   "execution_count": 27,
   "id": "4260a87c-717d-42d5-9603-7a2562ac88b1",
   "metadata": {},
   "outputs": [
    {
     "name": "stdout",
     "output_type": "stream",
     "text": [
      "\n",
      "\u001b[1m\u001b[34mDesired Error Patterns:\u001b[0m \n",
      "\n",
      "\u001b[1m\u001b[30mE = \u001b[0m\n",
      "[[0 0 0 0 1]\n",
      " [0 1 0 0 0]\n",
      " [0 0 1 1 0]\n",
      " [0 1 1 0 0]]\n",
      "\n"
     ]
    }
   ],
   "source": [
    "E = np.array([[0, 0, 0, 0, 1], [0, 1, 0, 0, 0], [0, 0, 1, 1, 0], [0, 1, 1, 0, 0]], dtype=np.int64)\n",
    "print(f'\\n{colored(\"Desired Error Patterns:\", \"blue\", attrs=[\"bold\"])} \\n\\n{colored(\"E = \", \"black\", attrs=[\"bold\"])}\\n{E}\\n')"
   ]
  },
  {
   "cell_type": "code",
   "execution_count": 28,
   "id": "5bbbcebf-2801-4bef-99c8-8945f2baeb6c",
   "metadata": {},
   "outputs": [
    {
     "name": "stdout",
     "output_type": "stream",
     "text": [
      "\n",
      "\u001b[1m\u001b[34mFor Desired Error Patterns:\u001b[0m \n",
      "\n",
      "\u001b[1m\u001b[30mR = \u001b[0m\n",
      "[[0 0 0 0 1]\n",
      " [1 1 1 0 1]\n",
      " [1 1 0 0 0]\n",
      " [0 0 1 1 1]]\n",
      "\n"
     ]
    }
   ],
   "source": [
    "R2 = Channel_Out(Codewords=V, E_patt=E)\n",
    "print(f'\\n{colored(\"For Desired Error Patterns:\", \"blue\", attrs=[\"bold\"])} \\n\\n{colored(\"R = \", \"black\", attrs=[\"bold\"])}\\n{R2}\\n')"
   ]
  },
  {
   "cell_type": "code",
   "execution_count": 29,
   "id": "417b625d-aad3-44cc-8a1a-ed26761d6f5b",
   "metadata": {},
   "outputs": [
    {
     "name": "stdout",
     "output_type": "stream",
     "text": [
      "\n",
      "\u001b[1m\u001b[30mV = \u001b[0m\n",
      "[[0 0 0 0 0]\n",
      " [1 0 1 0 1]\n",
      " [1 1 1 1 0]\n",
      " [0 1 0 1 1]]\n",
      "\n"
     ]
    }
   ],
   "source": [
    "print(f'\\n{colored(\"V = \", \"black\", attrs=[\"bold\"])}\\n{V}\\n')"
   ]
  },
  {
   "cell_type": "code",
   "execution_count": 30,
   "id": "2ddc9f97-a733-4cbd-917f-291f178438db",
   "metadata": {},
   "outputs": [
    {
     "name": "stdout",
     "output_type": "stream",
     "text": [
      "\n",
      "\u001b[1m\u001b[34mFor Desired Error Patterns:\u001b[0m \n",
      "\n",
      "\u001b[1m\u001b[30mV-hat = \u001b[0m\n",
      "[[0 0 0 0 0]\n",
      " [1 0 1 0 1]\n",
      " [1 1 1 1 0]\n",
      " [0 1 0 1 1]]\n",
      "\n"
     ]
    }
   ],
   "source": [
    "V_hat_2, E_hat = Decoder(R=R2)\n",
    "print(f'\\n{colored(\"For Desired Error Patterns:\", \"blue\", attrs=[\"bold\"])} \\n\\n{colored(\"V-hat = \", \"black\", attrs=[\"bold\"])}\\n{V_hat_2}\\n')"
   ]
  },
  {
   "cell_type": "markdown",
   "id": "4153150f-8153-4352-86b6-36af1402acde",
   "metadata": {},
   "source": [
    "$\\newline$\n",
    "$\\newline$\n",
    "$\\newline$\n",
    "\n",
    "\n",
    "- #### $\\bf{}\\;\\;\\color{blue}{\\bf{{\\text{Conclusion:}}}}$\n",
    "\n",
    "\n",
    "$\\newline$\n",
    "$\\newline$\n",
    "\n",
    "\n",
    "- - ${{\\color{black}{\\text{As we saw for error patterns that there are in the Standard Array, the Decoder does decoding as correctly.}}}}$\n",
    "\n",
    "\n",
    "$\\newline$\n",
    "$\\newline$\n",
    "$\\newline$"
   ]
  }
 ],
 "metadata": {
  "kernelspec": {
   "display_name": "Python 3 (ipykernel)",
   "language": "python",
   "name": "python3"
  },
  "language_info": {
   "codemirror_mode": {
    "name": "ipython",
    "version": 3
   },
   "file_extension": ".py",
   "mimetype": "text/x-python",
   "name": "python",
   "nbconvert_exporter": "python",
   "pygments_lexer": "ipython3",
   "version": "3.11.3"
  }
 },
 "nbformat": 4,
 "nbformat_minor": 5
}
